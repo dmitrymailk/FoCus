{
 "cells": [
  {
   "cell_type": "code",
   "execution_count": 1,
   "metadata": {},
   "outputs": [
    {
     "data": {
      "text/plain": [
       "1"
      ]
     },
     "execution_count": 1,
     "metadata": {},
     "output_type": "execute_result"
    }
   ],
   "source": [
    "# CUDA_VISIBLE_DEVICES=0 python train_focus.py --train_batch_size=2 --n_epochs 2 --lm_coef 10 --flag E2_L10 --model_name BART --incontext > train_log_focus/e2_L20_bart.log"
   ]
  }
 ],
 "metadata": {
  "kernelspec": {
   "display_name": "Python 3.10.4 ('d_env': venv)",
   "language": "python",
   "name": "python3"
  },
  "language_info": {
   "codemirror_mode": {
    "name": "ipython",
    "version": 3
   },
   "file_extension": ".py",
   "mimetype": "text/x-python",
   "name": "python",
   "nbconvert_exporter": "python",
   "pygments_lexer": "ipython3",
   "version": "3.10.4"
  },
  "orig_nbformat": 4,
  "vscode": {
   "interpreter": {
    "hash": "30a38661b2ceeb3c9b7cf184b47a2a6da71d32c359e8d9d03d0224b913ace509"
   }
  }
 },
 "nbformat": 4,
 "nbformat_minor": 2
}
